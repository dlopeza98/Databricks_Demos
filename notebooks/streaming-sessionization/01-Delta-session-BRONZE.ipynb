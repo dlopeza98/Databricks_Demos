{
 "cells": [
  {
   "cell_type": "code",
   "execution_count": 0,
   "metadata": {
    "application/vnd.databricks.v1+cell": {
     "cellMetadata": {
      "byteLimit": 2048000,
      "rowLimit": 10000
     },
     "inputWidgets": {},
     "nuid": "16129914-44c3-4a88-b589-cb565cca3617",
     "showTitle": false,
     "tableResultSettingsMap": {},
     "title": ""
    }
   },
   "outputs": [],
   "source": [
    "dbutils.widgets.dropdown(\"reset_all_data\", \"false\", [\"true\", \"false\"], \"Reset all data\")"
   ]
  },
  {
   "cell_type": "markdown",
   "metadata": {
    "application/vnd.databricks.v1+cell": {
     "cellMetadata": {},
     "inputWidgets": {},
     "nuid": "d5ee8053-ea39-46cf-89d9-4b80a3983143",
     "showTitle": false,
     "tableResultSettingsMap": {},
     "title": null
    }
   },
   "source": [
    "### A cluster has been created for this demo\n",
    "To run this demo, just select the cluster `dbdemos-streaming-sessionization-david_lopez` from the dropdown menu ([open cluster configuration](https://adb-1126292079753158.18.azuredatabricks.net/#setting/clusters/0102-204425-e6rayurl/configuration)). <br />\n",
    "*Note: If the cluster was deleted after 30 days, you can re-create it with `dbdemos.create_cluster('streaming-sessionization')` or re-install the demo: `dbdemos.install('streaming-sessionization')`*"
   ]
  },
  {
   "cell_type": "markdown",
   "metadata": {
    "application/vnd.databricks.v1+cell": {
     "cellMetadata": {},
     "inputWidgets": {},
     "nuid": "7582cb52-82ff-4feb-aa8e-00f773e45072",
     "showTitle": false,
     "tableResultSettingsMap": {},
     "title": ""
    }
   },
   "source": [
    "\n",
    "# Streaming on Databricks with Spark and Delta Lake\n",
    "\n",
    "Streaming on Databricks is greatly simplified using Delta Live Table (DLT). <br/>\n",
    "DLT lets you write your entire data pipeline, supporting streaming transformation using SQL or python and removing all the technical challenges.\n",
    "\n",
    "We strongly recommend implementing your pipelines using DLT as this will allow for much robust pipelines, enforcing data quality and greatly accelerating project delivery.<br/>\n",
    "*For a DLT example, please install `dbdemos.install('dlt-loans')` or the C360 Lakehouse demo: `dbdemos.install('lakehouse-retail-churn')`*\n",
    "\n",
    "Spark Streaming API offers lower-level primitive offering more advanced control, such as `foreachBatch` and custom streaming operation with `applyInPandasWithState`.\n",
    "\n",
    "Some advanced use-case can be implemented using these APIs, and this is what we'll focus on.\n",
    "\n",
    "## Building a sessionization stream with Delta Lake and Spark Streaming\n",
    "\n",
    "### What's sessionization?\n",
    "<div style=\"float:right\" ><img src=\"https://raw.githubusercontent.com/databricks-demos/dbdemos-resources/main/images/product/streaming-sessionization/session_diagram.png\" style=\"height: 200px; margin:0px 0px 0px 10px\"/></div>\n",
    "\n",
    "Sessionization is the process of finding time-bounded user session from a flow of event, grouping all events happening around the same time (ex: number of clicks, pages most view etc)\n",
    "\n",
    "When there is a temporal gap greater than X minute, we decide to split the session in 2 distinct sessions\n",
    "\n",
    "### Why is that important?\n",
    "\n",
    "Understanding sessions is critical for a lot of use cases:\n",
    "\n",
    "- Detect cart abandonment in your online shot, and automatically trigger marketing actions as follow-up to increase your sales\n",
    "- Build better attribution model for your affiliation, based on the user actions during each session \n",
    "- Understand user journey in your website, and provide better experience to increase your user retention\n",
    "- ...\n",
    "\n",
    "\n",
    "### Sessionization with Spark & Delta\n",
    "\n",
    "Sessionization can be done in many ways. SQL windowing is often used but quickly become too restricted for complex use-case. \n",
    "\n",
    "Instead, we'll be using the following Delta Architecture:\n",
    "\n",
    "<img src=\"https://raw.githubusercontent.com/databricks-demos/dbdemos-resources/main/images/product/streaming-sessionization/sessionization.png\" width=\"1200px\">\n",
    "\n",
    "Being able to process and aggregate your sessions in a Batch and Streaming fashion can be a real challenge, especially when updates are required in your historical data!\n",
    "\n",
    "Thankfully, Delta and Spark can simplify our job, using Spark Streaming function with a custom stateful operation (`flatMapGroupsWithState` operator), in a streaming and batch fashion.\n",
    "\n",
    "Let's build our Session job to detect cart abandonment !\n",
    "\n",
    "\n",
    "*Note: again, this is an advanced demo - if you're starting with Databricks and are looking for a simple streaming pipeline we recommand going with DLT instead.*\n",
    "\n",
    "<!-- tracking, please Collect usage data (view). Remove it to disable collection. View README for more details.  -->\n",
    "<img width=\"1px\" src=\"https://ppxrzfxige.execute-api.us-west-2.amazonaws.com/v1/analytics?category=data-engineering&org_id=1126292079753158&notebook=%2F01-Delta-session-BRONZE&demo_name=streaming-sessionization&event=VIEW&path=%2F_dbdemos%2Fdata-engineering%2Fstreaming-sessionization%2F01-Delta-session-BRONZE&version=1\">"
   ]
  },
  {
   "cell_type": "markdown",
   "metadata": {
    "application/vnd.databricks.v1+cell": {
     "cellMetadata": {},
     "inputWidgets": {},
     "nuid": "01791d77-b2e6-4208-a9b9-4dc9f7cc2939",
     "showTitle": false,
     "tableResultSettingsMap": {},
     "title": ""
    }
   },
   "source": [
    "## First, make sure events are published to your kafka queue\n",
    "\n",
    "Start the [_00-Delta-session-PRODUCER]($./_00-Delta-session-PRODUCER) notebook to send messages to your kafka queue. "
   ]
  },
  {
   "cell_type": "code",
   "execution_count": 0,
   "metadata": {
    "application/vnd.databricks.v1+cell": {
     "cellMetadata": {},
     "inputWidgets": {},
     "nuid": "b0f7804c-1531-4d2c-9969-ed38434e91f2",
     "showTitle": false,
     "tableResultSettingsMap": {},
     "title": ""
    },
    "jupyter": {
     "outputs_hidden": true
    }
   },
   "outputs": [],
   "source": [
    "%run ./_resources/00-setup $reset_all_data=$reset_all_data"
   ]
  },
  {
   "cell_type": "markdown",
   "metadata": {
    "application/vnd.databricks.v1+cell": {
     "cellMetadata": {},
     "inputWidgets": {},
     "nuid": "3e322387-ac5e-4fc5-80dc-aaa3947d5844",
     "showTitle": false,
     "tableResultSettingsMap": {},
     "title": ""
    }
   },
   "source": [
    "\n",
    "## ![](https://pages.databricks.com/rs/094-YMS-629/images/delta-lake-tiny-logo.png) 1/ Bronze table: store the stream as Delta Lake table\n",
    "\n",
    "<img style=\"float:right; height: 250px; margin: 0px 30px 0px 30px\" src=\"https://raw.githubusercontent.com/databricks-demos/dbdemos-resources/main/images/product/streaming-sessionization/sessionization_bronze.png\">\n",
    "\n",
    "The first step is to consume data from our streaming engine (Kafka, Kinesis, Pulsar etc.) and save it in our Data Lake.\n",
    "\n",
    "We won't be doing any transformation, the goal is to be able to re-process all the data and change/improve the downstream logic when needed\n",
    "\n",
    "#### Solving small files and compaction issues\n",
    "\n",
    "Everytime we capture kafka events, they'll be stored in our table and this will create new files. After several days, we'll endup with millions of small files leading to performance issues.<br/>\n",
    "Databricks solves that with autoOptimize & autoCompact, 2 properties to set at the table level.\n",
    "\n",
    "*Note that if the table isn't created with all the columns. The engine will automatically add the new column from kafka at write time, merging the schema gracefuly*"
   ]
  },
  {
   "cell_type": "code",
   "execution_count": 0,
   "metadata": {
    "application/vnd.databricks.v1+cell": {
     "cellMetadata": {},
     "inputWidgets": {},
     "nuid": "8e1caf9b-c00f-46c0-8866-08f1ccf4c1b0",
     "showTitle": true,
     "tableResultSettingsMap": {},
     "title": "Create the table events_raw"
    }
   },
   "outputs": [],
   "source": [
    "%sql\n",
    "CREATE TABLE IF NOT EXISTS events_raw (key string, value string) TBLPROPERTIES (delta.autoOptimize.optimizeWrite = true, delta.autoOptimize.autoCompact = true);"
   ]
  },
  {
   "cell_type": "code",
   "execution_count": 0,
   "metadata": {
    "application/vnd.databricks.v1+cell": {
     "cellMetadata": {},
     "inputWidgets": {},
     "nuid": "c2c225f2-9b4b-48fa-a693-80322153d3d8",
     "showTitle": true,
     "tableResultSettingsMap": {},
     "title": "Read messages from Kafka and save them as events_raw"
    }
   },
   "outputs": [],
   "source": [
    "kafka_bootstrap_servers_tls = \"b-1.oetrta.kpgu3r.c1.kafka.us-west-2.amazonaws.com:9094,b-3.oetrta.kpgu3r.c1.kafka.us-west-2.amazonaws.com:9094,b-2.oetrta.kpgu3r.c1.kafka.us-west-2.amazonaws.com:9094\"\n",
    "\n",
    "stream = (spark\n",
    "    .readStream\n",
    "       #=== Configurations for Kafka streams ===\n",
    "      .format(\"kafka\")\n",
    "      .option(\"kafka.bootstrap.servers\", kafka_bootstrap_servers_tls) \n",
    "      .option(\"kafka.security.protocol\", \"SSL\")\n",
    "      .option(\"subscribe\", \"dbdemos-sessions\") #kafka topic\n",
    "      .option(\"startingOffsets\", \"latest\") #Consume messages from the end\n",
    "      .option(\"maxOffsetsPerTrigger\", \"10000\") # Control ingestion rate - backpressure\n",
    "      .option(\"ignoreChanges\", \"true\")\n",
    "    .load()\n",
    "    .withColumn('key', col('key').cast('string'))\n",
    "    .withColumn('value', col('value').cast('string'))\n",
    "    .writeStream\n",
    "       # === Write to the delta table ===\n",
    "      .format(\"delta\")\n",
    "      .trigger(processingTime=\"20 seconds\")\n",
    "      .option(\"checkpointLocation\", cloud_storage_path+\"/checkpoints/bronze\")\n",
    "      .option(\"mergeSchema\", \"true\")\n",
    "      .outputMode(\"append\")\n",
    "      .table(\"events_raw\"))\n",
    "\n",
    "wait_for_table(\"events_raw\")"
   ]
  },
  {
   "cell_type": "code",
   "execution_count": 0,
   "metadata": {
    "application/vnd.databricks.v1+cell": {
     "cellMetadata": {},
     "inputWidgets": {},
     "nuid": "cbe209f0-ba4f-4ad0-8564-a2286b8527e5",
     "showTitle": true,
     "tableResultSettingsMap": {},
     "title": "Our table events_raw is ready and will contain all events"
    }
   },
   "outputs": [],
   "source": [
    "%sql SELECT * FROM events_raw;"
   ]
  },
  {
   "cell_type": "markdown",
   "metadata": {
    "application/vnd.databricks.v1+cell": {
     "cellMetadata": {},
     "inputWidgets": {},
     "nuid": "8ec039b7-fc12-4af5-a43d-7a1ea086ad6e",
     "showTitle": false,
     "tableResultSettingsMap": {},
     "title": ""
    }
   },
   "source": [
    "### Our Raw events are now ready to be analyzed\n",
    "\n",
    "It's now easy to run queries in our events_raw table. Our data is saved as JSON, databricks makes it easy to query:"
   ]
  },
  {
   "cell_type": "code",
   "execution_count": 0,
   "metadata": {
    "application/vnd.databricks.v1+cell": {
     "cellMetadata": {},
     "inputWidgets": {},
     "nuid": "430caf48-19ee-4faa-a001-df56ca3a702b",
     "showTitle": true,
     "tableResultSettingsMap": {},
     "title": "Action per platform"
    }
   },
   "outputs": [],
   "source": [
    "%sql\n",
    "select count(*), value:platform as platform from events_raw group by platform;"
   ]
  },
  {
   "cell_type": "markdown",
   "metadata": {
    "application/vnd.databricks.v1+cell": {
     "cellMetadata": {},
     "inputWidgets": {},
     "nuid": "486169a6-9616-4703-83c9-b924a19d6e26",
     "showTitle": false,
     "tableResultSettingsMap": {},
     "title": ""
    }
   },
   "source": [
    "## Searching for duplicate events\n",
    "\n",
    "As you can see, our producer sends incorrect messages.\n",
    "\n",
    "Not only we have null event_id from time to time, but we also have duplicate events (identical events being send twice with the same ID and exact same content)"
   ]
  },
  {
   "cell_type": "code",
   "execution_count": 0,
   "metadata": {
    "application/vnd.databricks.v1+cell": {
     "cellMetadata": {},
     "inputWidgets": {},
     "nuid": "aee57184-065c-4ef4-88da-b89c92538ed8",
     "showTitle": false,
     "tableResultSettingsMap": {},
     "title": ""
    }
   },
   "outputs": [],
   "source": [
    "%sql\n",
    "select count(*) event_count, value :event_id event_id, first(value) from events_raw\n",
    "  group by event_id\n",
    "    having event_count > 1\n",
    "  order by event_id;"
   ]
  },
  {
   "cell_type": "code",
   "execution_count": 0,
   "metadata": {
    "application/vnd.databricks.v1+cell": {
     "cellMetadata": {},
     "inputWidgets": {},
     "nuid": "797c6f67-6cc9-4414-82b8-f5bc1ec1071c",
     "showTitle": true,
     "tableResultSettingsMap": {},
     "title": "Stop all the streams "
    }
   },
   "outputs": [],
   "source": [
    "stop_all_streams(sleep_time=120)"
   ]
  },
  {
   "cell_type": "markdown",
   "metadata": {
    "application/vnd.databricks.v1+cell": {
     "cellMetadata": {},
     "inputWidgets": {},
     "nuid": "f9dddacf-f66f-4505-bd31-2c24ce3925cd",
     "showTitle": false,
     "tableResultSettingsMap": {},
     "title": ""
    }
   },
   "source": [
    "## Next steps: Cleanup data and remove duplicates\n",
    "\n",
    "It looks like we have duplicate event in our dataset. Let's see how we can perform some cleanup. \n",
    "\n",
    "In addition, reading from JSON isn't super efficient, and what if our json changes over time ?\n",
    "\n",
    "While we can explore the dataset using spark json manipulation, this isn't ideal. For example is the json in our message changes after a few month, our request will fail.\n",
    "\n",
    "Futhermore, performances won't be great at scale: because all our data is stored as a unique, we can't leverage data skipping and a columnar format\n",
    "\n",
    "That's why we need another table:  **[A Silver Table!]($./02-Delta-session-SILVER)**"
   ]
  }
 ],
 "metadata": {
  "application/vnd.databricks.v1+notebook": {
   "computePreferences": null,
   "dashboards": [],
   "environmentMetadata": null,
   "language": "python",
   "notebookMetadata": {
    "pythonIndentUnit": 2
   },
   "notebookName": "01-Delta-session-BRONZE",
   "widgets": {
    "reset_all_data": {
     "currentValue": "false",
     "nuid": "cfd7e20c-af01-4953-a34e-bd0d28f21ae9",
     "typedWidgetInfo": {
      "autoCreated": false,
      "defaultValue": "false",
      "label": "Reset all data",
      "name": "reset_all_data",
      "options": {
       "widgetDisplayType": "Dropdown",
       "choices": [
        "true",
        "false"
       ],
       "fixedDomain": true,
       "multiselect": false
      },
      "parameterDataType": "String"
     },
     "widgetInfo": {
      "widgetType": "dropdown",
      "defaultValue": "false",
      "label": "Reset all data",
      "name": "reset_all_data",
      "options": {
       "widgetType": "dropdown",
       "autoCreated": null,
       "choices": [
        "true",
        "false"
       ]
      }
     }
    }
   }
  },
  "language_info": {
   "name": "python"
  }
 },
 "nbformat": 4,
 "nbformat_minor": 0
}
