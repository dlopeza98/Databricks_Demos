{
 "cells": [
  {
   "cell_type": "code",
   "execution_count": 0,
   "metadata": {
    "application/vnd.databricks.v1+cell": {
     "cellMetadata": {},
     "inputWidgets": {},
     "nuid": "e8956970-a190-42f6-88ec-2e1e0c0795fe",
     "showTitle": false,
     "tableResultSettingsMap": {},
     "title": ""
    }
   },
   "outputs": [],
   "source": [
    "dbutils.widgets.text(\"produce_time_sec\", \"600\", \"How long we'll produce data (sec)\")"
   ]
  },
  {
   "cell_type": "markdown",
   "metadata": {
    "application/vnd.databricks.v1+cell": {
     "cellMetadata": {},
     "inputWidgets": {},
     "nuid": "833e6fed-c447-469b-af73-8b1b137d2b91",
     "showTitle": false,
     "tableResultSettingsMap": {},
     "title": null
    }
   },
   "source": [
    "### A cluster has been created for this demo\n",
    "To run this demo, just select the cluster `dbdemos-streaming-sessionization-david_lopez` from the dropdown menu ([open cluster configuration](https://adb-1126292079753158.18.azuredatabricks.net/#setting/clusters/0102-204425-e6rayurl/configuration)). <br />\n",
    "*Note: If the cluster was deleted after 30 days, you can re-create it with `dbdemos.create_cluster('streaming-sessionization')` or re-install the demo: `dbdemos.install('streaming-sessionization')`*"
   ]
  },
  {
   "cell_type": "markdown",
   "metadata": {
    "application/vnd.databricks.v1+cell": {
     "cellMetadata": {},
     "inputWidgets": {},
     "nuid": "e3e7769e-79f2-4ea7-8ca5-e32ac50eb4a1",
     "showTitle": false,
     "tableResultSettingsMap": {},
     "title": ""
    }
   },
   "source": [
    "#Kafka producer\n",
    "\n",
    "Use this producer to create a stream of fake user in your website and sends the message to kafka, live.\n",
    "\n",
    "Run all the cells, once. Currently requires to run on a cluster with instance profile allowing kafka connection (one-env, aws).\n",
    "\n",
    "<!-- tracking, please Collect usage data (view). Remove it to disable collection. View README for more details.  -->\n",
    "<img width=\"1px\" src=\"https://ppxrzfxige.execute-api.us-west-2.amazonaws.com/v1/analytics?category=data-engineering&org_id=1126292079753158&notebook=%2F_00-Delta-session-PRODUCER&demo_name=streaming-sessionization&event=VIEW&path=%2F_dbdemos%2Fdata-engineering%2Fstreaming-sessionization%2F_00-Delta-session-PRODUCER&version=1\">"
   ]
  },
  {
   "cell_type": "code",
   "execution_count": 0,
   "metadata": {
    "application/vnd.databricks.v1+cell": {
     "cellMetadata": {},
     "inputWidgets": {},
     "nuid": "0a6ce1be-cebd-4842-a8c6-7912f99ec3d7",
     "showTitle": false,
     "tableResultSettingsMap": {},
     "title": ""
    }
   },
   "outputs": [],
   "source": [
    "%pip install faker kafka-python"
   ]
  },
  {
   "cell_type": "code",
   "execution_count": 0,
   "metadata": {
    "application/vnd.databricks.v1+cell": {
     "cellMetadata": {},
     "inputWidgets": {},
     "nuid": "5363a379-f1ea-4bd2-aab9-330adc51527b",
     "showTitle": false,
     "tableResultSettingsMap": {},
     "title": ""
    }
   },
   "outputs": [],
   "source": [
    "kafka_bootstrap_servers_tls = \"b-1.oetrta.kpgu3r.c1.kafka.us-west-2.amazonaws.com:9094,b-3.oetrta.kpgu3r.c1.kafka.us-west-2.amazonaws.com:9094,b-2.oetrta.kpgu3r.c1.kafka.us-west-2.amazonaws.com:9094\"\n",
    "\n",
    "from kafka import KafkaProducer\n",
    "producer = KafkaProducer(security_protocol=\"SSL\", bootstrap_servers=kafka_bootstrap_servers_tls.split(\",\"), value_serializer=lambda x: x.encode('utf-8'))"
   ]
  },
  {
   "cell_type": "code",
   "execution_count": 0,
   "metadata": {
    "application/vnd.databricks.v1+cell": {
     "cellMetadata": {},
     "inputWidgets": {},
     "nuid": "d8c9cfd4-573c-4b03-83a0-139afda1a4f1",
     "showTitle": false,
     "tableResultSettingsMap": {},
     "title": ""
    }
   },
   "outputs": [],
   "source": [
    "import re\n",
    "from faker import Faker\n",
    "from collections import OrderedDict \n",
    "from random import randrange\n",
    "import time\n",
    "import uuid\n",
    "fake = Faker()\n",
    "import random\n",
    "import json\n",
    "\n",
    "platform = OrderedDict([(\"ios\", 0.5),(\"android\", 0.1),(\"other\", 0.3),(None, 0.01)])\n",
    "action_type = OrderedDict([(\"view\", 0.5),(\"log\", 0.1),(\"click\", 0.3),(None, 0.01)])\n",
    "\n",
    "def create_event(user_id, timestamp):\n",
    "  fake_platform = fake.random_elements(elements=platform, length=1)[0]\n",
    "  fake_action = fake.random_elements(elements=action_type, length=1)[0]\n",
    "  fake_uri = re.sub(r'https?:\\/\\/.*?\\/', \"https://databricks.com/\", fake.uri())\n",
    "  #adds some noise in the timestamp to simulate out-of order events\n",
    "  timestamp = timestamp + randrange(10)-5\n",
    "  #event id with 2% of null event to have some errors/cleanup\n",
    "  fake_id = str(uuid.uuid4()) if random.uniform(0, 1) < 0.98 else None\n",
    "  return {\"user_id\": user_id, \"platform\": fake_platform, \"event_id\": fake_id, \"event_date\": timestamp, \"action\": fake_action, \"uri\": fake_uri}\n",
    "\n",
    "print(create_event(str(uuid.uuid4()), int(time.time())))"
   ]
  },
  {
   "cell_type": "code",
   "execution_count": 0,
   "metadata": {
    "application/vnd.databricks.v1+cell": {
     "cellMetadata": {},
     "inputWidgets": {},
     "nuid": "fbb61e53-e6ec-4f9a-9161-e9505c201592",
     "showTitle": false,
     "tableResultSettingsMap": {},
     "title": ""
    }
   },
   "outputs": [],
   "source": [
    "def sendMessage(event): \n",
    "  event = json.dumps(event)\n",
    "  producer.send('dbdemos-sessions', value=event)\n",
    "  #print(event)\n",
    "  #Simulate duplicate events to drop the duplication\n",
    "  if random.uniform(0, 1) > 0.96:\n",
    "    producer.send('dbdemos-sessions', value=event)\n",
    "\n",
    "users = {}\n",
    "#How long it'll produce messages\n",
    "produce_time_sec = int(dbutils.widgets.get(\"produce_time_sec\"))\n",
    "#How many new users join the website per second\n",
    "user_creation_rate = 2\n",
    "#Max duration a user stays in the website (after this time user will stop producing events)\n",
    "user_max_duration_time = 120\n",
    "\n",
    "for _ in range(produce_time_sec):\n",
    "  #print(len(users))\n",
    "  for id in list(users.keys()):\n",
    "    user = users[id]\n",
    "    now = int(time.time())\n",
    "    if (user['end_date'] < now):\n",
    "      del users[id]\n",
    "      #print(f\"User {id} removed\")\n",
    "    else:\n",
    "      #10% chance to click on something\n",
    "      if (randrange(100) > 80):\n",
    "        event = create_event(id, now)\n",
    "        sendMessage(event)\n",
    "        #print(f\"User {id} sent event {event}\")\n",
    "        \n",
    "  #Re-create new users\n",
    "  for i in range(user_creation_rate):\n",
    "    #Add new user\n",
    "    user_id = str(uuid.uuid4())\n",
    "    now = int(time.time())\n",
    "    #end_date is when the user will leave and the session stops (so max user_max_duration_time sec and then leaves the website)\n",
    "    user = {\"id\": user_id, \"creation_date\": now, \"end_date\": now + randrange(user_max_duration_time) }\n",
    "    users[user_id] = user\n",
    "    #print(f\"User {user_id} created\")\n",
    "  time.sleep(1)\n",
    "\n",
    "print(\"closed\")\n"
   ]
  }
 ],
 "metadata": {
  "application/vnd.databricks.v1+notebook": {
   "computePreferences": null,
   "dashboards": [],
   "environmentMetadata": null,
   "language": "python",
   "notebookMetadata": {
    "pythonIndentUnit": 2
   },
   "notebookName": "_00-Delta-session-PRODUCER",
   "widgets": {}
  },
  "language_info": {
   "name": "python"
  }
 },
 "nbformat": 4,
 "nbformat_minor": 0
}
