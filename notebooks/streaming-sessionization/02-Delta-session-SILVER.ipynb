{
 "cells": [
  {
   "cell_type": "markdown",
   "metadata": {
    "application/vnd.databricks.v1+cell": {
     "cellMetadata": {},
     "inputWidgets": {},
     "nuid": "e6e8995f-5c1d-423f-9e9d-9f788104ce5f",
     "showTitle": false,
     "tableResultSettingsMap": {},
     "title": ""
    }
   },
   "source": [
    "\n",
    "# ![Delta Lake Tiny Logo](https://pages.databricks.com/rs/094-YMS-629/images/delta-lake-tiny-logo.png)  2/ SILVER table: store the content of our events in a structured table\n",
    "\n",
    "<img style=\"float:right; height: 230px; margin: 0px 30px 0px 30px\" src=\"https://raw.githubusercontent.com/databricks-demos/dbdemos-resources/main/images/product/streaming-sessionization/sessionization_silver.png\">\n",
    "\n",
    "We can create a new silver table containing all our data.\n",
    "\n",
    "This will allow to store all our data in a proper table, with the content of the json stored in a columnar format. \n",
    "\n",
    "Should our message content change, we'll be able to adapt the transformation of this job to always allow SQL queries over this SILVER table.\n",
    "\n",
    "If we realized our logic was flawed from the begining, it'll also be easy to start a new cluster to re-process the entire table with a better transformation!\n",
    "\n",
    "<!-- tracking, please Collect usage data (view). Remove it to disable collection. View README for more details.  -->\n",
    "<img width=\"1px\" src=\"https://ppxrzfxige.execute-api.us-west-2.amazonaws.com/v1/analytics?category=data-engineering&org_id=1126292079753158&notebook=%2F02-Delta-session-SILVER&demo_name=streaming-sessionization&event=VIEW&path=%2F_dbdemos%2Fdata-engineering%2Fstreaming-sessionization%2F02-Delta-session-SILVER&version=1\">"
   ]
  },
  {
   "cell_type": "markdown",
   "metadata": {
    "application/vnd.databricks.v1+cell": {
     "cellMetadata": {},
     "inputWidgets": {},
     "nuid": "7b655f33-2ffd-4523-9dc8-48f5e3ee0f04",
     "showTitle": false,
     "tableResultSettingsMap": {},
     "title": null
    }
   },
   "source": [
    "### A cluster has been created for this demo\n",
    "To run this demo, just select the cluster `dbdemos-streaming-sessionization-david_lopez` from the dropdown menu ([open cluster configuration](https://adb-1126292079753158.18.azuredatabricks.net/#setting/clusters/0102-204425-e6rayurl/configuration)). <br />\n",
    "*Note: If the cluster was deleted after 30 days, you can re-create it with `dbdemos.create_cluster('streaming-sessionization')` or re-install the demo: `dbdemos.install('streaming-sessionization')`*"
   ]
  },
  {
   "cell_type": "code",
   "execution_count": 0,
   "metadata": {
    "application/vnd.databricks.v1+cell": {
     "cellMetadata": {},
     "inputWidgets": {},
     "nuid": "5c724d35-7682-441c-a11b-f7f1460bb774",
     "showTitle": false,
     "tableResultSettingsMap": {},
     "title": ""
    },
    "jupyter": {
     "outputs_hidden": true
    }
   },
   "outputs": [],
   "source": [
    "%run ./_resources/00-setup $reset_all_data=false"
   ]
  },
  {
   "cell_type": "code",
   "execution_count": 0,
   "metadata": {
    "application/vnd.databricks.v1+cell": {
     "cellMetadata": {},
     "inputWidgets": {},
     "nuid": "262da069-7ddb-4a3b-b66a-5174bbd80f12",
     "showTitle": true,
     "tableResultSettingsMap": {},
     "title": "Stream and clean the raw events"
    }
   },
   "outputs": [],
   "source": [
    "wait_for_table(\"events_raw\") #Wait until the previous table is created to avoid error if all notebooks are started at once\n",
    "\n",
    "#For the sake of the example we'll get the schema from a json row. In a real deployment we could query a schema registry.\n",
    "row_example = \"\"\"{\"user_id\": \"5ee7ba5f-77b2-47e4-8061-dd89f19626f3\", \"platform\": \"other\", \"event_id\": \"03c3d410-f01f-4f51-8ee0-7fab9be96855\", \"event_date\": 1669301257, \"action\": \"view\", \"uri\": \"https://databricks.com/home.htm\"}\"\"\"\n",
    "json_schema = F.schema_of_json(row_example)\n",
    "\n",
    "stream = (spark\n",
    "            .readStream\n",
    "              .table(\"events_raw\")\n",
    "             # === Our transformation, easy to adapt if our logic changes ===\n",
    "            .withColumn('json', F.from_json(col(\"value\"), json_schema))\n",
    "            .select('json.*')\n",
    "             # Drop null events\n",
    "             .where(\"event_id is not null and user_id is not null and event_date is not null\")\n",
    "             .withColumn('event_datetime', F.to_timestamp(F.from_unixtime(col(\"event_date\")))))\n",
    "display(stream)"
   ]
  },
  {
   "cell_type": "code",
   "execution_count": 0,
   "metadata": {
    "application/vnd.databricks.v1+cell": {
     "cellMetadata": {},
     "inputWidgets": {},
     "nuid": "b384876f-a730-4e8e-ab44-e89790b18792",
     "showTitle": false,
     "tableResultSettingsMap": {},
     "title": ""
    }
   },
   "outputs": [],
   "source": [
    "(stream\n",
    "  .withWatermark('event_datetime', '1 hours')\n",
    "  .dropDuplicates(['event_id'])\n",
    "  .writeStream\n",
    "    .trigger(processingTime=\"20 seconds\")\n",
    "    .option(\"checkpointLocation\", cloud_storage_path+\"/checkpoints/silver\")\n",
    "    .option(\"mergeSchema\", \"true\")\n",
    "    .table('events'))\n",
    "\n",
    "wait_for_table(\"events\")"
   ]
  },
  {
   "cell_type": "code",
   "execution_count": 0,
   "metadata": {
    "application/vnd.databricks.v1+cell": {
     "cellMetadata": {},
     "inputWidgets": {},
     "nuid": "5f28c1d9-bb11-4afa-bf1e-ccda482b584f",
     "showTitle": false,
     "tableResultSettingsMap": {},
     "title": ""
    }
   },
   "outputs": [],
   "source": [
    "%sql\n",
    "SELECT * FROM events;"
   ]
  },
  {
   "cell_type": "markdown",
   "metadata": {
    "application/vnd.databricks.v1+cell": {
     "cellMetadata": {},
     "inputWidgets": {},
     "nuid": "b846fa0b-87de-4a48-a09f-090560c7a929",
     "showTitle": false,
     "tableResultSettingsMap": {},
     "title": ""
    }
   },
   "source": [
    "Let's make sure we don't have any duplicate nor null event (they've been filtered out)"
   ]
  },
  {
   "cell_type": "code",
   "execution_count": 0,
   "metadata": {
    "application/vnd.databricks.v1+cell": {
     "cellMetadata": {},
     "inputWidgets": {},
     "nuid": "ee595a8c-eb0f-4956-a445-e28fadc228c3",
     "showTitle": false,
     "tableResultSettingsMap": {},
     "title": ""
    }
   },
   "outputs": [],
   "source": [
    "%sql\n",
    "SELECT count(*) event_count, event_id FROM events\n",
    "  GROUP BY event_id\n",
    "    HAVING event_count > 1 or event_id is null\n",
    "  ORDER BY event_id;"
   ]
  },
  {
   "cell_type": "markdown",
   "metadata": {
    "application/vnd.databricks.v1+cell": {
     "cellMetadata": {},
     "inputWidgets": {},
     "nuid": "0c4dfd14-7bec-40e0-930c-40037b8dd318",
     "showTitle": false,
     "tableResultSettingsMap": {},
     "title": ""
    }
   },
   "source": [
    "#### Let's display a real-time view of our traffic using our stream, grouped by platform, for the last minute"
   ]
  },
  {
   "cell_type": "code",
   "execution_count": 0,
   "metadata": {
    "application/vnd.databricks.v1+cell": {
     "cellMetadata": {},
     "inputWidgets": {},
     "nuid": "4cd6de5d-7159-4081-a536-b5c23d1d319b",
     "showTitle": false,
     "tableResultSettingsMap": {},
     "title": ""
    }
   },
   "outputs": [],
   "source": [
    "spark.readStream.table(\"events\").createOrReplaceTempView(\"events_stream\")"
   ]
  },
  {
   "cell_type": "code",
   "execution_count": 0,
   "metadata": {
    "application/vnd.databricks.v1+cell": {
     "cellMetadata": {},
     "inputWidgets": {},
     "nuid": "e9dd6bdc-35b3-4c79-95ff-e98cc40b1a97",
     "showTitle": true,
     "tableResultSettingsMap": {},
     "title": "Let's monitor our events from the last minutes with a window function"
    }
   },
   "outputs": [],
   "source": [
    "%sql\n",
    "-- Visualization: bar plot with X=start Y=count (SUM, group by platform)\n",
    "WITH event_monitoring AS\n",
    "  (SELECT WINDOW(event_datetime, \"10 seconds\") w, count(*) c, platform FROM events_stream WHERE CAST(event_datetime as INT) > CAST(CURRENT_TIMESTAMP() as INT)-120 GROUP BY w, platform)\n",
    "SELECT w.*, c, platform FROM event_monitoring \n",
    "ORDER BY START DESC"
   ]
  },
  {
   "cell_type": "markdown",
   "metadata": {
    "application/vnd.databricks.v1+cell": {
     "cellMetadata": {},
     "inputWidgets": {},
     "nuid": "9cd0fba7-55b9-4c87-b351-c503af459d61",
     "showTitle": false,
     "tableResultSettingsMap": {},
     "title": ""
    }
   },
   "source": [
    "Let's find our TOP 10 more active pages, updated in real time with a streaming query:"
   ]
  },
  {
   "cell_type": "code",
   "execution_count": 0,
   "metadata": {
    "application/vnd.databricks.v1+cell": {
     "cellMetadata": {},
     "inputWidgets": {},
     "nuid": "bea34107-dcdb-4266-acd9-be1783fa34f9",
     "showTitle": false,
     "tableResultSettingsMap": {},
     "title": ""
    }
   },
   "outputs": [],
   "source": [
    "%sql\n",
    "-- Visualization: pie with X=URL Y=count (SUM)\n",
    "select count(*) as count, uri from events_stream group by uri order by count desc limit 10;"
   ]
  },
  {
   "cell_type": "code",
   "execution_count": 0,
   "metadata": {
    "application/vnd.databricks.v1+cell": {
     "cellMetadata": {},
     "inputWidgets": {},
     "nuid": "5c3e1e73-dc80-4c17-a953-ffcb7bec9712",
     "showTitle": true,
     "tableResultSettingsMap": {},
     "title": "Stop all the streams "
    }
   },
   "outputs": [],
   "source": [
    "stop_all_streams(sleep_time=120)"
   ]
  },
  {
   "cell_type": "markdown",
   "metadata": {
    "application/vnd.databricks.v1+cell": {
     "cellMetadata": {},
     "inputWidgets": {},
     "nuid": "a02da256-36e5-4eb8-a476-c2ad4b85df88",
     "showTitle": false,
     "tableResultSettingsMap": {},
     "title": ""
    }
   },
   "source": [
    "### We now have our silver table ready to be used!\n",
    "\n",
    "Let's compute our sessions based on this table with  **[a Gold Table](https://demo.cloud.databricks.com/#notebook/4438519)**\n",
    "\n",
    "\n",
    "**[Go Back](https://demo.cloud.databricks.com/#notebook/4128443)**"
   ]
  }
 ],
 "metadata": {
  "application/vnd.databricks.v1+notebook": {
   "computePreferences": null,
   "dashboards": [],
   "environmentMetadata": null,
   "language": "python",
   "notebookMetadata": {
    "pythonIndentUnit": 2
   },
   "notebookName": "02-Delta-session-SILVER",
   "widgets": {}
  },
  "language_info": {
   "name": "python"
  }
 },
 "nbformat": 4,
 "nbformat_minor": 0
}
